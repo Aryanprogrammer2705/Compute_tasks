{
 "cells": [
  {
   "cell_type": "markdown",
   "id": "ed0dbfc8",
   "metadata": {},
   "source": [
    "Q1)"
   ]
  },
  {
   "cell_type": "code",
   "execution_count": 4,
   "id": "6d7770ef",
   "metadata": {},
   "outputs": [
    {
     "name": "stdout",
     "output_type": "stream",
     "text": [
      "5 3\n",
      "89 90 78 93 80\n",
      "90 91 85 88 86\n",
      "91 92 83 89 90.5\n",
      "90.0\n",
      "91.0\n",
      "82.0\n",
      "90.0\n",
      "85.5\n"
     ]
    }
   ],
   "source": [
    "nx=list(map(int,input().split()))\n",
    "n,x=nx[0],nx[1]\n",
    "z=[]\n",
    "for i in range(x):\n",
    "    z.append(list(map(float,input().split())))\n",
    "zipVar=zip(*z)\n",
    "for i in zipVar:\n",
    "    print(sum(i)/x)"
   ]
  },
  {
   "cell_type": "markdown",
   "id": "9b0fe06b",
   "metadata": {},
   "source": [
    "Q2)"
   ]
  },
  {
   "cell_type": "code",
   "execution_count": 2,
   "id": "13712c7f",
   "metadata": {
    "scrolled": true
   },
   "outputs": [
    {
     "name": "stdout",
     "output_type": "stream",
     "text": [
      "12\n",
      "insert 0 5\n",
      "insert 1 10\n",
      "insert 0 6\n",
      "print\n",
      "[6, 5, 10]\n",
      "remove 6\n",
      "append 9\n",
      "append 1\n",
      "sort\n",
      "print\n",
      "[1, 5, 9, 10]\n",
      "pop\n",
      "reverse\n",
      "print\n",
      "[9, 5, 1]\n"
     ]
    }
   ],
   "source": [
    "lst=[]\n",
    "n=int(input())\n",
    "for i in range(n):\n",
    "    s=input().split()\n",
    "    for i in range (1,len(s)):\n",
    "        s[i]=int(s[i])  \n",
    "    if s[0]=='insert':\n",
    "        lst.insert(int(s[1]),int(s[2]))\n",
    "    elif s[0]=='print':\n",
    "        print(lst)\n",
    "    elif s[0]=='remove':\n",
    "        lst.remove(int(s[1]))\n",
    "    elif s[0]=='append':\n",
    "        lst.append(int(s[1]))\n",
    "    elif s[0]=='sort':\n",
    "        lst.sort()\n",
    "    elif s[0]=='pop':\n",
    "        lst.pop()\n",
    "    else:\n",
    "        lst.reverse()\n",
    "            "
   ]
  },
  {
   "cell_type": "markdown",
   "id": "6fa481a6",
   "metadata": {},
   "source": [
    "Q3)"
   ]
  },
  {
   "cell_type": "code",
   "execution_count": 1,
   "id": "c630e0c2",
   "metadata": {},
   "outputs": [
    {
     "name": "stdout",
     "output_type": "stream",
     "text": [
      "3\n",
      "Krishna 67 68 69\n",
      "Arjun 70 98 63\n",
      "Malika 52 56 60\n",
      "Malika\n",
      "56.0\n"
     ]
    }
   ],
   "source": [
    "n=int(input())\n",
    "Student_marks={}\n",
    "for i in range(n):\n",
    "    lst=input().split()\n",
    "    name=lst[0]\n",
    "    marks=list(map(int,lst[1:]))\n",
    "    Student_marks[name]=marks\n",
    "query_name=input()\n",
    "if(query_name in Student_marks.keys()):\n",
    "    marks=Student_marks[query_name]\n",
    "    print((marks[0]+marks[1]+marks[2])/3)\n",
    "else:\n",
    "    print(\"Student record doesn't exist\")"
   ]
  },
  {
   "cell_type": "markdown",
   "id": "42749fb6",
   "metadata": {},
   "source": [
    "Q4)"
   ]
  },
  {
   "cell_type": "code",
   "execution_count": 4,
   "id": "17cd32a7",
   "metadata": {},
   "outputs": [
    {
     "name": "stdout",
     "output_type": "stream",
     "text": [
      "3\n",
      "lara@hackerrank.com\n",
      "brian-23@hackerrank.com\n",
      "britts_54@hackerrank.com\n",
      "['brian-23@hackerrank.com', 'britts_54@hackerrank.com', 'lara@hackerrank.com']\n"
     ]
    }
   ],
   "source": [
    "def fun(s):\n",
    "    try:\n",
    "        username,other=s.split(\"@\")\n",
    "        websitename,extension=other.split(\".\")\n",
    "    except:\n",
    "        return False\n",
    "    username=username.replace(\"-\",\"\").replace(\"_\",\"\")\n",
    "    if username.isalnum()==False:\n",
    "        return False\n",
    "    elif websitename.isalnum()==False:\n",
    "        return False\n",
    "    elif len(extension)>3:\n",
    "        return False\n",
    "    else:\n",
    "        return True\n",
    "def filter_mail(emails):\n",
    "    return list(filter(fun,emails))\n",
    "if __name__=='__main__':\n",
    "    n=int(input())\n",
    "    emails=[]\n",
    "    for _ in range(n):\n",
    "        emails.append(input())\n",
    "filtered_emails=filter_mail(emails)\n",
    "filtered_emails.sort()\n",
    "print(filtered_emails)"
   ]
  },
  {
   "cell_type": "markdown",
   "id": "15af5e3c",
   "metadata": {},
   "source": [
    "Q5)"
   ]
  },
  {
   "cell_type": "code",
   "execution_count": 2,
   "id": "fc804130",
   "metadata": {},
   "outputs": [
    {
     "name": "stdout",
     "output_type": "stream",
     "text": [
      "Enter a string: abracadabra\n",
      "abracadabra\n",
      "Enter character: k\n",
      "Enter position at which character to input: 5\n",
      "abrackdabra\n"
     ]
    }
   ],
   "source": [
    "string=input(\"Enter a string: \")\n",
    "print(string)\n",
    "lst=list(string)\n",
    "m=input(\"Enter character: \")\n",
    "x=int(input(\"Enter position at which character to input: \"))\n",
    "lst[x]=m\n",
    "string=''.join(lst)\n",
    "print(string)"
   ]
  },
  {
   "cell_type": "markdown",
   "id": "c94030a5",
   "metadata": {},
   "source": [
    "Q6)"
   ]
  },
  {
   "cell_type": "code",
   "execution_count": 3,
   "id": "20036574",
   "metadata": {},
   "outputs": [
    {
     "name": "stdout",
     "output_type": "stream",
     "text": [
      "numbers_x has same first and last index\n",
      "numbers_y has different first and last index\n"
     ]
    }
   ],
   "source": [
    "numbers_x=[10,20,30,40,10]\n",
    "numbers_y=[75,65,35,75,30]\n",
    "if numbers_x[0]==numbers_x[-1]:\n",
    "    print(\"numbers_x has same first and last index\")\n",
    "else:\n",
    "    print(\"numbers_x has different first and last index\")\n",
    "if numbers_y[0]==numbers_y[-1]:\n",
    "    print(\"numbers_y has same first and last index\")\n",
    "else:\n",
    "    print(\"numbers_y has different first and last index\")\n",
    "        "
   ]
  },
  {
   "cell_type": "markdown",
   "id": "ea5b218c",
   "metadata": {},
   "source": [
    "Q7)"
   ]
  },
  {
   "cell_type": "code",
   "execution_count": 4,
   "id": "9ed92516",
   "metadata": {},
   "outputs": [
    {
     "name": "stdout",
     "output_type": "stream",
     "text": [
      "\n",
      "1\n",
      "22\n",
      "333\n",
      "4444\n",
      "55555\n"
     ]
    }
   ],
   "source": [
    "for i in range(6):\n",
    "    for j in range(i):\n",
    "        print(i,end=\"\")\n",
    "    print(\"\")        "
   ]
  },
  {
   "cell_type": "code",
   "execution_count": null,
   "id": "49b2d5ec",
   "metadata": {},
   "outputs": [],
   "source": []
  }
 ],
 "metadata": {
  "kernelspec": {
   "display_name": "Python 3 (ipykernel)",
   "language": "python",
   "name": "python3"
  },
  "language_info": {
   "codemirror_mode": {
    "name": "ipython",
    "version": 3
   },
   "file_extension": ".py",
   "mimetype": "text/x-python",
   "name": "python",
   "nbconvert_exporter": "python",
   "pygments_lexer": "ipython3",
   "version": "3.9.12"
  }
 },
 "nbformat": 4,
 "nbformat_minor": 5
}
