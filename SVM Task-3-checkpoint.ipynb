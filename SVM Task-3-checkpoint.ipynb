{
 "cells": [
  {
   "cell_type": "code",
   "execution_count": 21,
   "id": "4fe0b510",
   "metadata": {},
   "outputs": [],
   "source": [
    "import numpy as np\n",
    "import pandas as pd\n",
    "import seaborn as sns\n",
    "import matplotlib.pyplot as plt "
   ]
  },
  {
   "cell_type": "code",
   "execution_count": 22,
   "id": "2fa12aaa",
   "metadata": {},
   "outputs": [
    {
     "data": {
      "text/html": [
       "<div>\n",
       "<style scoped>\n",
       "    .dataframe tbody tr th:only-of-type {\n",
       "        vertical-align: middle;\n",
       "    }\n",
       "\n",
       "    .dataframe tbody tr th {\n",
       "        vertical-align: top;\n",
       "    }\n",
       "\n",
       "    .dataframe thead th {\n",
       "        text-align: right;\n",
       "    }\n",
       "</style>\n",
       "<table border=\"1\" class=\"dataframe\">\n",
       "  <thead>\n",
       "    <tr style=\"text-align: right;\">\n",
       "      <th></th>\n",
       "      <th>AT</th>\n",
       "      <th>V</th>\n",
       "      <th>AP</th>\n",
       "      <th>RH</th>\n",
       "      <th>PE</th>\n",
       "    </tr>\n",
       "  </thead>\n",
       "  <tbody>\n",
       "    <tr>\n",
       "      <th>0</th>\n",
       "      <td>14.96</td>\n",
       "      <td>41.76</td>\n",
       "      <td>1024.07</td>\n",
       "      <td>73.17</td>\n",
       "      <td>463.26</td>\n",
       "    </tr>\n",
       "    <tr>\n",
       "      <th>1</th>\n",
       "      <td>25.18</td>\n",
       "      <td>62.96</td>\n",
       "      <td>1020.04</td>\n",
       "      <td>59.08</td>\n",
       "      <td>444.37</td>\n",
       "    </tr>\n",
       "    <tr>\n",
       "      <th>2</th>\n",
       "      <td>5.11</td>\n",
       "      <td>39.40</td>\n",
       "      <td>1012.16</td>\n",
       "      <td>92.14</td>\n",
       "      <td>488.56</td>\n",
       "    </tr>\n",
       "    <tr>\n",
       "      <th>3</th>\n",
       "      <td>20.86</td>\n",
       "      <td>57.32</td>\n",
       "      <td>1010.24</td>\n",
       "      <td>76.64</td>\n",
       "      <td>446.48</td>\n",
       "    </tr>\n",
       "    <tr>\n",
       "      <th>4</th>\n",
       "      <td>10.82</td>\n",
       "      <td>37.50</td>\n",
       "      <td>1009.23</td>\n",
       "      <td>96.62</td>\n",
       "      <td>473.90</td>\n",
       "    </tr>\n",
       "    <tr>\n",
       "      <th>...</th>\n",
       "      <td>...</td>\n",
       "      <td>...</td>\n",
       "      <td>...</td>\n",
       "      <td>...</td>\n",
       "      <td>...</td>\n",
       "    </tr>\n",
       "    <tr>\n",
       "      <th>9563</th>\n",
       "      <td>16.65</td>\n",
       "      <td>49.69</td>\n",
       "      <td>1014.01</td>\n",
       "      <td>91.00</td>\n",
       "      <td>460.03</td>\n",
       "    </tr>\n",
       "    <tr>\n",
       "      <th>9564</th>\n",
       "      <td>13.19</td>\n",
       "      <td>39.18</td>\n",
       "      <td>1023.67</td>\n",
       "      <td>66.78</td>\n",
       "      <td>469.62</td>\n",
       "    </tr>\n",
       "    <tr>\n",
       "      <th>9565</th>\n",
       "      <td>31.32</td>\n",
       "      <td>74.33</td>\n",
       "      <td>1012.92</td>\n",
       "      <td>36.48</td>\n",
       "      <td>429.57</td>\n",
       "    </tr>\n",
       "    <tr>\n",
       "      <th>9566</th>\n",
       "      <td>24.48</td>\n",
       "      <td>69.45</td>\n",
       "      <td>1013.86</td>\n",
       "      <td>62.39</td>\n",
       "      <td>435.74</td>\n",
       "    </tr>\n",
       "    <tr>\n",
       "      <th>9567</th>\n",
       "      <td>21.60</td>\n",
       "      <td>62.52</td>\n",
       "      <td>1017.23</td>\n",
       "      <td>67.87</td>\n",
       "      <td>453.28</td>\n",
       "    </tr>\n",
       "  </tbody>\n",
       "</table>\n",
       "<p>9568 rows × 5 columns</p>\n",
       "</div>"
      ],
      "text/plain": [
       "         AT      V       AP     RH      PE\n",
       "0     14.96  41.76  1024.07  73.17  463.26\n",
       "1     25.18  62.96  1020.04  59.08  444.37\n",
       "2      5.11  39.40  1012.16  92.14  488.56\n",
       "3     20.86  57.32  1010.24  76.64  446.48\n",
       "4     10.82  37.50  1009.23  96.62  473.90\n",
       "...     ...    ...      ...    ...     ...\n",
       "9563  16.65  49.69  1014.01  91.00  460.03\n",
       "9564  13.19  39.18  1023.67  66.78  469.62\n",
       "9565  31.32  74.33  1012.92  36.48  429.57\n",
       "9566  24.48  69.45  1013.86  62.39  435.74\n",
       "9567  21.60  62.52  1017.23  67.87  453.28\n",
       "\n",
       "[9568 rows x 5 columns]"
      ]
     },
     "execution_count": 22,
     "metadata": {},
     "output_type": "execute_result"
    }
   ],
   "source": [
    "df=pd.read_csv('Data (1).csv')\n",
    "df"
   ]
  },
  {
   "cell_type": "code",
   "execution_count": 23,
   "id": "c1d16725",
   "metadata": {},
   "outputs": [],
   "source": [
    "X=df.drop('PE',axis=1)\n",
    "Y=df['PE']"
   ]
  },
  {
   "cell_type": "code",
   "execution_count": 37,
   "id": "9f0c99f7",
   "metadata": {},
   "outputs": [],
   "source": [
    "from sklearn.preprocessing import StandardScaler"
   ]
  },
  {
   "cell_type": "code",
   "execution_count": 38,
   "id": "88a37378",
   "metadata": {},
   "outputs": [],
   "source": [
    "scaler=StandardScaler()\n",
    "scaler.fit(X)\n",
    "X=scaler.transform(X)"
   ]
  },
  {
   "cell_type": "code",
   "execution_count": 39,
   "id": "e1fc57d1",
   "metadata": {},
   "outputs": [],
   "source": [
    "from sklearn.model_selection import train_test_split"
   ]
  },
  {
   "cell_type": "code",
   "execution_count": 46,
   "id": "6002a355",
   "metadata": {},
   "outputs": [],
   "source": [
    "X_train,X_test,Y_train,Y_test=train_test_split(X,Y,test_size=0.3,random_state=0)"
   ]
  },
  {
   "cell_type": "code",
   "execution_count": 47,
   "id": "0e32c9c5",
   "metadata": {},
   "outputs": [],
   "source": [
    "from sklearn.svm import SVR"
   ]
  },
  {
   "cell_type": "markdown",
   "id": "76df546c",
   "metadata": {},
   "source": [
    "1)USING RBF"
   ]
  },
  {
   "cell_type": "code",
   "execution_count": 48,
   "id": "40c6e7d8",
   "metadata": {},
   "outputs": [],
   "source": [
    "rbf=SVR(kernel='rbf')"
   ]
  },
  {
   "cell_type": "code",
   "execution_count": 49,
   "id": "27048191",
   "metadata": {},
   "outputs": [
    {
     "data": {
      "text/plain": [
       "SVR()"
      ]
     },
     "execution_count": 49,
     "metadata": {},
     "output_type": "execute_result"
    }
   ],
   "source": [
    "rbf.fit(X_train,Y_train)"
   ]
  },
  {
   "cell_type": "code",
   "execution_count": 53,
   "id": "62527e02",
   "metadata": {},
   "outputs": [
    {
     "name": "stdout",
     "output_type": "stream",
     "text": [
      "Testing accuracy: 0.9369117501279931\n",
      "\n",
      "Training accuracy: 0.9371943255053018\n"
     ]
    }
   ],
   "source": [
    "from sklearn.metrics import r2_score\n",
    "Y_test_pred=rbf.predict(X_test)\n",
    "accuracy_test=r2_score(Y_test_pred,Y_test)\n",
    "Y_train_pred=rbf.predict(X_train)\n",
    "accuracy_train=r2_score(Y_train_pred,Y_train)\n",
    "print(\"Testing accuracy:\",accuracy_test)\n",
    "print(\"\\nTraining accuracy:\",accuracy_train)"
   ]
  },
  {
   "cell_type": "markdown",
   "id": "8311ddd3",
   "metadata": {},
   "source": [
    "2)USING LINEAR"
   ]
  },
  {
   "cell_type": "code",
   "execution_count": 63,
   "id": "59372d9b",
   "metadata": {},
   "outputs": [],
   "source": [
    "linear=SVR(kernel='linear')"
   ]
  },
  {
   "cell_type": "code",
   "execution_count": 64,
   "id": "8b27c4c0",
   "metadata": {},
   "outputs": [
    {
     "data": {
      "text/plain": [
       "SVR(kernel='linear')"
      ]
     },
     "execution_count": 64,
     "metadata": {},
     "output_type": "execute_result"
    }
   ],
   "source": [
    "linear.fit(X_train,Y_train)"
   ]
  },
  {
   "cell_type": "code",
   "execution_count": 65,
   "id": "aff52d3f",
   "metadata": {},
   "outputs": [
    {
     "name": "stdout",
     "output_type": "stream",
     "text": [
      "Testing accuracy: 0.9277772244349055\n",
      "\n",
      "Training accuracy: 0.924849939369399\n"
     ]
    }
   ],
   "source": [
    "from sklearn.metrics import r2_score\n",
    "Y_test_pred=linear.predict(X_test)\n",
    "accuracy_test=r2_score(Y_test_pred,Y_test)\n",
    "Y_train_pred=linear.predict(X_train)\n",
    "accuracy_train=r2_score(Y_train_pred,Y_train)\n",
    "print(\"Testing accuracy:\",accuracy_test)\n",
    "print(\"\\nTraining accuracy:\",accuracy_train)"
   ]
  },
  {
   "cell_type": "markdown",
   "id": "4503519e",
   "metadata": {},
   "source": [
    "3)USING POLYNOMIAL"
   ]
  },
  {
   "cell_type": "code",
   "execution_count": 78,
   "id": "fc7b2a35",
   "metadata": {},
   "outputs": [],
   "source": [
    "poly=SVR(kernel='poly',degree=3)"
   ]
  },
  {
   "cell_type": "code",
   "execution_count": 79,
   "id": "9bf80c9c",
   "metadata": {},
   "outputs": [
    {
     "data": {
      "text/plain": [
       "SVR(kernel='poly')"
      ]
     },
     "execution_count": 79,
     "metadata": {},
     "output_type": "execute_result"
    }
   ],
   "source": [
    "poly.fit(X_train,Y_train)"
   ]
  },
  {
   "cell_type": "code",
   "execution_count": 80,
   "id": "c18155e9",
   "metadata": {},
   "outputs": [
    {
     "name": "stdout",
     "output_type": "stream",
     "text": [
      "Testing accuracy: 0.7575721361213108\n",
      "\n",
      "Training accuracy: 0.7575533808524799\n"
     ]
    }
   ],
   "source": [
    "from sklearn.metrics import r2_score\n",
    "Y_test_pred=poly.predict(X_test)\n",
    "accuracy_test=r2_score(Y_test_pred,Y_test)\n",
    "Y_train_pred=poly.predict(X_train)\n",
    "accuracy_train=r2_score(Y_train_pred,Y_train)\n",
    "print(\"Testing accuracy:\",accuracy_test)\n",
    "print(\"\\nTraining accuracy:\",accuracy_train)"
   ]
  },
  {
   "cell_type": "markdown",
   "id": "59bbfe27",
   "metadata": {},
   "source": [
    "4)USING SIGMOID"
   ]
  },
  {
   "cell_type": "code",
   "execution_count": 81,
   "id": "c7a09291",
   "metadata": {},
   "outputs": [],
   "source": [
    "sig=SVR(kernel='sigmoid')"
   ]
  },
  {
   "cell_type": "code",
   "execution_count": 82,
   "id": "a9024974",
   "metadata": {},
   "outputs": [
    {
     "data": {
      "text/plain": [
       "SVR(kernel='sigmoid')"
      ]
     },
     "execution_count": 82,
     "metadata": {},
     "output_type": "execute_result"
    }
   ],
   "source": [
    "sig.fit(X_train,Y_train)"
   ]
  },
  {
   "cell_type": "code",
   "execution_count": 83,
   "id": "baba3de3",
   "metadata": {},
   "outputs": [
    {
     "name": "stdout",
     "output_type": "stream",
     "text": [
      "Testing accuracy: -0.06059691481504492\n",
      "\n",
      "Training accuracy: -0.06284705302268656\n"
     ]
    }
   ],
   "source": [
    "from sklearn.metrics import r2_score\n",
    "Y_test_pred=sig.predict(X_test)\n",
    "accuracy_test=r2_score(Y_test_pred,Y_test)\n",
    "Y_train_pred=sig.predict(X_train)\n",
    "accuracy_train=r2_score(Y_train_pred,Y_train)\n",
    "print(\"Testing accuracy:\",accuracy_test)\n",
    "print(\"\\nTraining accuracy:\",accuracy_train)"
   ]
  },
  {
   "cell_type": "code",
   "execution_count": null,
   "id": "d409c805",
   "metadata": {},
   "outputs": [],
   "source": []
  }
 ],
 "metadata": {
  "kernelspec": {
   "display_name": "Python 3 (ipykernel)",
   "language": "python",
   "name": "python3"
  },
  "language_info": {
   "codemirror_mode": {
    "name": "ipython",
    "version": 3
   },
   "file_extension": ".py",
   "mimetype": "text/x-python",
   "name": "python",
   "nbconvert_exporter": "python",
   "pygments_lexer": "ipython3",
   "version": "3.9.12"
  }
 },
 "nbformat": 4,
 "nbformat_minor": 5
}
